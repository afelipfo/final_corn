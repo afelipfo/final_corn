{
 "cells": [
  {
   "cell_type": "markdown",
   "metadata": {
    "id": "header"
   },
   "source": [
    "#  Corn Diseases Detection - Edge Models Training\n",
    "\n",
    "**Entrenamiento de 4 arquitecturas edge en Google Colab con GPU**\n",
    "\n",
    "Este notebook entrena y compara:\n",
    "- MobileNetV3Large\n",
    "- EfficientNetLiteB2\n",
    "- MobileViT (con fine-tuning)\n",
    "- PMVT (con fine-tuning)\n",
    "\n",
    "---\n",
    "\n",
    "##  Configuración Inicial\n",
    "\n",
    "**IMPORTANTE:** Antes de ejecutar:\n",
    "1. Runtime > Change runtime type > **GPU (T4)**\n",
    "2. Sube tu carpeta `data/` a Google Drive en: `MyDrive/corn-diseases-data/`\n",
    "3. Ejecuta todas las celdas en orden"
   ]
  },
  {
   "cell_type": "markdown",
   "metadata": {
    "id": "setup"
   },
   "source": [
    "## 1️⃣ Verificar GPU y Recursos"
   ]
  },
  {
   "cell_type": "code",
   "execution_count": null,
   "metadata": {
    "id": "check_gpu"
   },
   "outputs": [],
   "source": [
    "# Verificar GPU disponible\n",
    "!nvidia-smi\n",
    "\n",
    "import tensorflow as tf\n",
    "print(f\"\\nOK TensorFlow version: {tf.__version__}\")\n",
    "print(f\"OK GPU disponible: {tf.config.list_physical_devices('GPU')}\")\n",
    "\n",
    "# Verificar memoria\n",
    "!free -h"
   ]
  },
  {
   "cell_type": "markdown",
   "metadata": {
    "id": "clone"
   },
   "source": [
    "## 2️⃣ Clonar Repositorio"
   ]
  },
  {
   "cell_type": "code",
   "execution_count": null,
   "metadata": {
    "id": "clone_repo"
   },
   "outputs": [],
   "source": [
    "# Clonar repositorio\n",
    "!git clone https://github.com/ojgonzalezz/corn-diseases-detection.git\n",
    "%cd corn-diseases-detection\n",
    "\n",
    "# Verificar estructura\n",
    "!ls -la"
   ]
  },
  {
   "cell_type": "markdown",
   "metadata": {
    "id": "install"
   },
   "source": [
    "## 3️⃣ Instalar Dependencias"
   ]
  },
  {
   "cell_type": "code",
   "execution_count": null,
   "metadata": {
    "id": "install_deps"
   },
   "outputs": [],
   "source": [
    "# Instalar dependencias\n",
    "!pip install -q -r requirements.txt\n",
    "\n",
    "# Verificar instalación\n",
    "import tensorflow as tf\n",
    "import keras\n",
    "import mlflow\n",
    "import numpy as np\n",
    "import pandas as pd\n",
    "\n",
    "print(\"OK Todas las dependencias instaladas correctamente\")\n",
    "print(f\"   TensorFlow: {tf.__version__}\")\n",
    "print(f\"   Keras: {keras.__version__}\")\n",
    "print(f\"   MLflow: {mlflow.__version__}\")"
   ]
  },
  {
   "cell_type": "markdown",
   "metadata": {
    "id": "mount"
   },
   "source": [
    "## 4️⃣ Montar Google Drive y Copiar Datos"
   ]
  },
  {
   "cell_type": "code",
   "execution_count": null,
   "metadata": {
    "id": "mount_drive"
   },
   "outputs": [],
   "source": [
    "from google.colab import drive\n",
    "drive.mount('/content/drive')\n",
    "\n",
    "print(\"\\nOK Google Drive montado\")\n",
    "print(\"\\nVerificando datos en Drive...\")\n",
    "!ls -la /content/drive/MyDrive/corn-diseases-data/"
   ]
  },
  {
   "cell_type": "code",
   "execution_count": null,
   "metadata": {
    "id": "copy_data"
   },
   "outputs": [],
   "source": [
    "# Copiar datos desde Google Drive\n",
    "import shutil\n",
    "import os\n",
    "\n",
    "# Ruta en Google Drive (AJUSTA SEGÚN TU ESTRUCTURA)\n",
    "drive_data_path = '/content/drive/MyDrive/corn-diseases-data'\n",
    "\n",
    "# Copiar train, val, test\n",
    "for split in ['train', 'val', 'test']:\n",
    "    src = f'{drive_data_path}/{split}'\n",
    "    dst = f'data/{split}'\n",
    "    \n",
    "    if os.path.exists(src):\n",
    "        if os.path.exists(dst):\n",
    "            shutil.rmtree(dst)\n",
    "        shutil.copytree(src, dst)\n",
    "        print(f\"OK Copiado: {split}\")\n",
    "    else:\n",
    "        print(f\"⚠️  No encontrado: {src}\")\n",
    "\n",
    "# Verificar estructura\n",
    "print(\"\\n Estructura de datos:\")\n",
    "!tree data/ -L 2 || find data/ -maxdepth 2 -type d"
   ]
  },
  {
   "cell_type": "markdown",
   "metadata": {
    "id": "verify"
   },
   "source": [
    "## 5️⃣ Verificar Datos"
   ]
  },
  {
   "cell_type": "code",
   "execution_count": null,
   "metadata": {
    "id": "verify_data"
   },
   "outputs": [],
   "source": [
    "import os\n",
    "\n",
    "def count_images(path):\n",
    "    \"\"\"Cuenta imágenes por clase.\"\"\"\n",
    "    counts = {}\n",
    "    for class_name in os.listdir(path):\n",
    "        class_path = os.path.join(path, class_name)\n",
    "        if os.path.isdir(class_path):\n",
    "            counts[class_name] = len([f for f in os.listdir(class_path) \n",
    "                                      if f.endswith(('.jpg', '.jpeg', '.png'))])\n",
    "    return counts\n",
    "\n",
    "print(\" Distribución de datos:\\n\")\n",
    "for split in ['train', 'val', 'test']:\n",
    "    path = f'data/{split}'\n",
    "    if os.path.exists(path):\n",
    "        counts = count_images(path)\n",
    "        total = sum(counts.values())\n",
    "        print(f\"{split.upper()}: {total} imágenes\")\n",
    "        for class_name, count in counts.items():\n",
    "            print(f\"  - {class_name}: {count}\")\n",
    "        print()\n",
    "    else:\n",
    "        print(f\"⚠️  {split.upper()}: No encontrado\\n\")"
   ]
  },
  {
   "cell_type": "markdown",
   "metadata": {
    "id": "config"
   },
   "source": [
    "## 6️⃣ Configurar Variables de Entorno"
   ]
  },
  {
   "cell_type": "code",
   "execution_count": null,
   "metadata": {
    "id": "set_env"
   },
   "outputs": [],
   "source": [
    "# Configurar variables de entorno para TensorFlow\n",
    "import os\n",
    "\n",
    "os.environ['TF_CPP_MIN_LOG_LEVEL'] = '2'\n",
    "os.environ['TF_FORCE_GPU_ALLOW_GROWTH'] = 'true'\n",
    "os.environ['PYTHONUNBUFFERED'] = '1'\n",
    "\n",
    "# Configurar GPU memory growth\n",
    "import tensorflow as tf\n",
    "gpus = tf.config.list_physical_devices('GPU')\n",
    "if gpus:\n",
    "    try:\n",
    "        for gpu in gpus:\n",
    "            tf.config.experimental.set_memory_growth(gpu, True)\n",
    "        print(f\"OK GPU memory growth habilitado para {len(gpus)} GPU(s)\")\n",
    "    except RuntimeError as e:\n",
    "        print(e)\n",
    "\n",
    "print(\"OK Configuración de entorno completada\")"
   ]
  },
  {
   "cell_type": "markdown",
   "metadata": {
    "id": "train"
   },
   "source": [
    "## 7️⃣ Entrenar Todos los Modelos Edge\n",
    "\n",
    "**Esto tomará aproximadamente 2-3 horas con GPU T4**"
   ]
  },
  {
   "cell_type": "code",
   "execution_count": null,
   "metadata": {
    "id": "train_all"
   },
   "outputs": [],
   "source": [
    "# Ejecutar entrenamiento de todos los modelos\n",
    "!python experiments/edge_models/train_all_models.py"
   ]
  },
  {
   "cell_type": "markdown",
   "metadata": {
    "id": "compare"
   },
   "source": [
    "## 8️⃣ Comparar Resultados"
   ]
  },
  {
   "cell_type": "code",
   "execution_count": null,
   "metadata": {
    "id": "compare_models"
   },
   "outputs": [],
   "source": [
    "# Comparar modelos\n",
    "!python experiments/edge_models/compare_models.py"
   ]
  },
  {
   "cell_type": "markdown",
   "metadata": {
    "id": "select"
   },
   "source": [
    "## 9️⃣ Seleccionar Mejor Modelo"
   ]
  },
  {
   "cell_type": "code",
   "execution_count": null,
   "metadata": {
    "id": "select_best"
   },
   "outputs": [],
   "source": [
    "# Seleccionar mejor modelo\n",
    "!python experiments/edge_models/select_best_model.py"
   ]
  },
  {
   "cell_type": "markdown",
   "metadata": {
    "id": "results"
   },
   "source": [
    "## 🔟 Ver Resultados"
   ]
  },
  {
   "cell_type": "code",
   "execution_count": null,
   "metadata": {
    "id": "show_results"
   },
   "outputs": [],
   "source": [
    "# Mostrar archivo de mejor modelo\n",
    "import json\n",
    "\n",
    "with open('experiments/edge_models/best_edge_model.json', 'r') as f:\n",
    "    best_model = json.load(f)\n",
    "\n",
    "print(\"🏆 MEJOR MODELO SELECCIONADO\\n\")\n",
    "print(f\"Modelo: {best_model['selected_model']['name']}\")\n",
    "print(f\"\\nMétricas:\")\n",
    "print(f\"  Accuracy: {best_model['performance_metrics']['test_accuracy']:.2%}\")\n",
    "print(f\"  Min Recall: {best_model['performance_metrics']['min_recall']:.2%}\")\n",
    "print(f\"\\nCaracterísticas:\")\n",
    "print(f\"  Tamaño: {best_model['model_characteristics']['model_size_mb']} MB\")\n",
    "print(f\"  Parámetros: {best_model['model_characteristics']['total_parameters']:,}\")\n",
    "print(f\"  Edge-ready: {'OK Sí' if best_model['model_characteristics']['suitable_for_edge'] else 'ERROR No'}\")\n",
    "\n",
    "# Mostrar comparación completa\n",
    "import pandas as pd\n",
    "df_comparison = pd.DataFrame(best_model['all_models_comparison'])\n",
    "print(\"\\n COMPARACIÓN DE TODOS LOS MODELOS\\n\")\n",
    "print(df_comparison.to_string(index=False))"
   ]
  },
  {
   "cell_type": "markdown",
   "metadata": {
    "id": "download"
   },
   "source": [
    "## 1️⃣1️⃣ Descargar Resultados"
   ]
  },
  {
   "cell_type": "code",
   "execution_count": null,
   "metadata": {
    "id": "download_results"
   },
   "outputs": [],
   "source": [
    "# Comprimir resultados para descargar\n",
    "!zip -r edge_models_results.zip \\\n",
    "    experiments/edge_models/best_edge_model.json \\\n",
    "    experiments/edge_models/comparison_results.csv \\\n",
    "    models/exported/*.keras \\\n",
    "    models/exported/*.json \\\n",
    "    models/mlruns/\n",
    "\n",
    "print(\"\\nOK Resultados comprimidos en: edge_models_results.zip\")\n",
    "print(\"\\nPara descargar:\")\n",
    "print(\"  1. Click en el icono de carpeta (Files) a la izquierda\")\n",
    "print(\"  2. Busca 'edge_models_results.zip'\")\n",
    "print(\"  3. Click derecho > Download\")\n",
    "\n",
    "# También copiar a Google Drive\n",
    "!cp edge_models_results.zip /content/drive/MyDrive/\n",
    "print(\"\\nOK También guardado en Google Drive\")"
   ]
  },
  {
   "cell_type": "markdown",
   "metadata": {
    "id": "mlflow"
   },
   "source": [
    "## 1️⃣2️⃣ Ver Experimentos en MLflow (Opcional)"
   ]
  },
  {
   "cell_type": "code",
   "execution_count": null,
   "metadata": {
    "id": "mlflow_ui"
   },
   "outputs": [],
   "source": [
    "# Iniciar MLflow UI en Colab\n",
    "import subprocess\n",
    "import time\n",
    "\n",
    "# Iniciar MLflow en background\n",
    "mlflow_process = subprocess.Popen(\n",
    "    ['mlflow', 'ui', '--host', '0.0.0.0', '--port', '5000', \n",
    "     '--backend-store-uri', 'file:///content/corn-diseases-detection/models/mlruns'],\n",
    "    stdout=subprocess.PIPE,\n",
    "    stderr=subprocess.PIPE\n",
    ")\n",
    "\n",
    "time.sleep(5)\n",
    "\n",
    "# Crear túnel público con ngrok (opcional)\n",
    "print(\"Para ver MLflow UI:\")\n",
    "print(\"  1. Instala ngrok: !pip install pyngrok\")\n",
    "print(\"  2. Ejecuta: from pyngrok import ngrok; ngrok.connect(5000)\")\n",
    "print(\"\\nO descarga los resultados y visualiza en local\")"
   ]
  },
  {
   "cell_type": "markdown",
   "metadata": {
    "id": "cleanup"
   },
   "source": [
    "## 1️⃣3️⃣ Limpiar (Opcional)"
   ]
  },
  {
   "cell_type": "code",
   "execution_count": null,
   "metadata": {
    "id": "cleanup_files"
   },
   "outputs": [],
   "source": [
    "# Liberar espacio si es necesario\n",
    "# !rm -rf data/  # Eliminar datos (ya están en Drive)\n",
    "# !rm -rf models/mlruns/  # Eliminar runs de MLflow (ya descargados)\n",
    "\n",
    "print(\" Descomenta las líneas anteriores si necesitas liberar espacio\")"
   ]
  },
  {
   "cell_type": "markdown",
   "metadata": {
    "id": "summary"
   },
   "source": [
    "---\n",
    "\n",
    "## OK Resumen\n",
    "\n",
    "**Archivos generados:**\n",
    "- `experiments/edge_models/best_edge_model.json` - Mejor modelo seleccionado\n",
    "- `experiments/edge_models/comparison_results.csv` - Comparación completa\n",
    "- `models/exported/*.keras` - Modelos entrenados\n",
    "- `models/mlruns/` - Experimentos MLflow\n",
    "- `edge_models_results.zip` - Todo comprimido\n",
    "\n",
    "**Siguiente paso:**\n",
    "1. Descarga `edge_models_results.zip`\n",
    "2. Extrae en tu proyecto local\n",
    "3. Usa el mejor modelo para deployment\n",
    "\n",
    "---\n",
    "\n",
    "**Desarrollado con ❤️ para Edge Computing**"
   ]
  }
 ],
 "metadata": {
  "accelerator": "GPU",
  "colab": {
   "gpuType": "T4",
   "provenance": []
  },
  "kernelspec": {
   "display_name": "Python 3",
   "name": "python3"
  },
  "language_info": {
   "name": "python"
  }
 },
 "nbformat": 4,
 "nbformat_minor": 0
}
