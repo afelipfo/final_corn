{
 "cells": [
  {
   "cell_type": "markdown",
   "metadata": {
    "id": "header"
   },
   "source": [
    "#  Corn Diseases Detection - Edge Models Training\n",
    "\n",
    "**Entrenamiento y comparación de 4 arquitecturas edge optimizadas para detección de enfermedades en maíz.**\n",
    "\n",
    "Este notebook entrena y compara:\n",
    "- MobileNetV3Large\n",
    "- EfficientNetLiteB2\n",
    "- MobileViT (con fine-tuning)\n",
    "- PMVT (con fine-tuning)\n",
    "\n",
    "---\n",
    "\n",
    "##  Configuración Inicial\n",
    "\n",
    "**Prerequisitos:** \n",
    "1. Runtime → Change runtime type → GPU (T4)\n",
    "2. Sube tu carpeta data/ a Google Drive: MyDrive/corn-diseases-data/\n",
    "3. Ejecuta todas las celdas en orden"
   ]
  },
  {
   "cell_type": "markdown",
   "metadata": {
    "id": "setup"
   },
   "source": [
    "## 1️⃣ Verificar GPU y Recursos"
   ]
  },
  {
   "cell_type": "code",
   "execution_count": null,
   "metadata": {
    "id": "check_gpu"
   },
   "outputs": [],
   "source": [
    "# Verificar GPU y recursos disponibles\n",
    "!nvidia-smi\n",
    "!free -h\n",
    "\n",
    "import tensorflow as tf\n",
    "print(f\"\\n✓ TensorFlow: {tf.__version__}\")\n",
    "print(f\"✓ GPU: {len(tf.config.list_physical_devices('GPU'))} disponible(s)\")"
   ]
  },
  {
   "cell_type": "markdown",
   "metadata": {
    "id": "clone"
   },
   "source": [
    "## 2️⃣ Clonar Repositorio"
   ]
  },
  {
   "cell_type": "code",
   "execution_count": null,
   "metadata": {
    "id": "clone_repo"
   },
   "outputs": [],
   "source": [
    "!git clone https://github.com/ojgonzalezz/corn-diseases-detection.git\n",
    "%cd corn-diseases-detection\n",
    "!ls -la"
   ]
  },
  {
   "cell_type": "markdown",
   "metadata": {
    "id": "install"
   },
   "source": [
    "## 3️⃣ Instalar Dependencias"
   ]
  },
  {
   "cell_type": "code",
   "execution_count": null,
   "metadata": {
    "id": "install_deps"
   },
   "outputs": [],
   "source": [
    "!pip install -q -r requirements.txt\n",
    "\n",
    "# Verificar instalación\n",
    "import tensorflow as tf\n",
    "import keras\n",
    "import mlflow\n",
    "\n",
    "print(\"✓ Dependencias instaladas correctamente\")\n",
    "print(f\"  TensorFlow: {tf.__version__}\")\n",
    "print(f\"  Keras: {keras.__version__}\")\n",
    "print(f\"  MLflow: {mlflow.__version__}\")"
   ]
  },
  {
   "cell_type": "markdown",
   "metadata": {
    "id": "mount"
   },
   "source": [
    "## 4️⃣ Configurar GPU"
   ]
  },
  {
   "cell_type": "code",
   "execution_count": null,
   "metadata": {
    "id": "mount_drive"
   },
   "outputs": [],
   "source": [
    "import os\n",
    "import tensorflow as tf\n",
    "\n",
    "# Variables de entorno\n",
    "os.environ['TF_CPP_MIN_LOG_LEVEL'] = '2'\n",
    "os.environ['TF_FORCE_GPU_ALLOW_GROWTH'] = 'true'\n",
    "\n",
    "# Habilitar memory growth\n",
    "gpus = tf.config.list_physical_devices('GPU')\n",
    "if gpus:\n",
    "    for gpu in gpus:\n",
    "        tf.config.experimental.set_memory_growth(gpu, True)\n",
    "    print(f\"✓ GPU memory growth habilitado ({len(gpus)} GPU)\")"
   ]
  },
  {
   "cell_type": "markdown",
   "metadata": {},
   "source": [
    "## 5️⃣ Montar Drive y Copiar Datos"
   ]
  },
  {
   "cell_type": "code",
   "execution_count": null,
   "metadata": {
    "id": "copy_data"
   },
   "outputs": [],
   "source": [
    "from google.colab import drive\n",
    "import shutil\n",
    "import os\n",
    "\n",
    "# Montar Drive\n",
    "drive.mount('/content/drive')\n",
    "print(\"✓ Google Drive montado\")\n",
    "\n",
    "# Verificar y copiar datos\n",
    "drive_data_path = '/content/drive/MyDrive/corn-diseases-data'\n",
    "\n",
    "for split in ['train', 'val', 'test']:\n",
    "    src = f'{drive_data_path}/{split}'\n",
    "    dst = f'data/{split}'\n",
    "    \n",
    "    if os.path.exists(src):\n",
    "        if os.path.exists(dst):\n",
    "            shutil.rmtree(dst)\n",
    "        shutil.copytree(src, dst)\n",
    "        print(f\"✓ Copiado: {split}\")\n",
    "    else:\n",
    "        print(f\"⚠️ No encontrado: {src}\")"
   ]
  },
  {
   "cell_type": "markdown",
   "metadata": {
    "id": "verify"
   },
   "source": [
    "## 6️⃣ Verificar Distribución de Datos"
   ]
  },
  {
   "cell_type": "code",
   "execution_count": null,
   "metadata": {
    "id": "verify_data"
   },
   "outputs": [],
   "source": [
    "import os\n",
    "\n",
    "def count_images(path):\n",
    "    \"\"\"Cuenta imágenes por clase.\"\"\"\n",
    "    counts = {}\n",
    "    for class_name in os.listdir(path):\n",
    "        class_path = os.path.join(path, class_name)\n",
    "        if os.path.isdir(class_path):\n",
    "            counts[class_name] = len([f for f in os.listdir(class_path) \n",
    "                                      if f.lower().endswith(('.jpg', '.jpeg', '.png'))])\n",
    "    return counts\n",
    "\n",
    "print(\"📊 Distribución de datos:\\n\")\n",
    "for split in ['train', 'val', 'test']:\n",
    "    path = f'data/{split}'\n",
    "    if os.path.exists(path):\n",
    "        counts = count_images(path)\n",
    "        total = sum(counts.values())\n",
    "        print(f\"{split.upper()}: {total} imágenes\")\n",
    "        for class_name, count in sorted(counts.items()):\n",
    "            print(f\"  • {class_name}: {count}\")\n",
    "        print()"
   ]
  },
  {
   "cell_type": "markdown",
   "metadata": {
    "id": "train"
   },
   "source": [
    "## 7️⃣ Entrenar Modelos Edge\n",
    "\n",
    "**Duración estimada: 2-3 horas con GPU T4**"
   ]
  },
  {
   "cell_type": "code",
   "execution_count": null,
   "metadata": {
    "id": "train_all"
   },
   "outputs": [],
   "source": [
    "!python experiments/edge_models/train_all_models.py"
   ]
  },
  {
   "cell_type": "markdown",
   "metadata": {
    "id": "compare"
   },
   "source": [
    "## 8️⃣ Comparar Resultados"
   ]
  },
  {
   "cell_type": "code",
   "execution_count": null,
   "metadata": {
    "id": "compare_models"
   },
   "outputs": [],
   "source": [
    "!python experiments/edge_models/compare_models.py"
   ]
  },
  {
   "cell_type": "markdown",
   "metadata": {
    "id": "select"
   },
   "source": [
    "## 9️⃣ Seleccionar Mejor Modelo"
   ]
  },
  {
   "cell_type": "code",
   "execution_count": null,
   "metadata": {
    "id": "select_best"
   },
   "outputs": [],
   "source": [
    "!python experiments/edge_models/select_best_model.py"
   ]
  },
  {
   "cell_type": "markdown",
   "metadata": {
    "id": "results"
   },
   "source": [
    "## 🔟 Ver Resultados"
   ]
  },
  {
   "cell_type": "code",
   "execution_count": null,
   "metadata": {
    "id": "show_results"
   },
   "outputs": [],
   "source": [
    "import json\n",
    "import pandas as pd\n",
    "\n",
    "# Cargar resultados\n",
    "with open('experiments/edge_models/best_edge_model.json', 'r') as f:\n",
    "    best_model = json.load(f)\n",
    "\n",
    "# Mostrar mejor modelo\n",
    "print(\"🏆 MEJOR MODELO SELECCIONADO\\n\")\n",
    "print(f\"Modelo: {best_model['selected_model']['name']}\")\n",
    "print(f\"\\n📈 Métricas:\")\n",
    "print(f\"  Accuracy: {best_model['performance_metrics']['test_accuracy']:.2%}\")\n",
    "print(f\"  Min Recall: {best_model['performance_metrics']['min_recall']:.2%}\")\n",
    "print(f\"\\n⚙️ Características:\")\n",
    "print(f\"  Tamaño: {best_model['model_characteristics']['model_size_mb']} MB\")\n",
    "print(f\"  Parámetros: {best_model['model_characteristics']['total_parameters']:,}\")\n",
    "print(f\"  Edge-ready: {'✓' if best_model['model_characteristics']['suitable_for_edge'] else '✗'}\")\n",
    "\n",
    "# Comparación completa\n",
    "df = pd.DataFrame(best_model['all_models_comparison'])\n",
    "print(\"\\n📊 COMPARACIÓN COMPLETA\\n\")\n",
    "print(df.to_string(index=False))"
   ]
  },
  {
   "cell_type": "markdown",
   "metadata": {
    "id": "download"
   },
   "source": [
    "## 1️⃣1️⃣ Descargar Resultados"
   ]
  },
  {
   "cell_type": "code",
   "execution_count": null,
   "metadata": {
    "id": "download_results"
   },
   "outputs": [],
   "source": [
    "# Comprimir resultados\n",
    "!zip -r edge_models_results.zip \\\n",
    "    experiments/edge_models/best_edge_model.json \\\n",
    "    experiments/edge_models/comparison_results.csv \\\n",
    "    models/exported/*.keras \\\n",
    "    models/exported/*.json \\\n",
    "    models/mlruns/\n",
    "\n",
    "print(\"✓ Resultados comprimidos: edge_models_results.zip\")\n",
    "\n",
    "# Copiar a Drive\n",
    "!cp edge_models_results.zip /content/drive/MyDrive/\n",
    "print(\"✓ Guardado en Google Drive\")\n",
    "\n",
    "print(\"\\n📥 Para descargar:\")\n",
    "print(\"  1. Click en Files (panel izquierdo)\")\n",
    "print(\"  2. Busca 'edge_models_results.zip'\")\n",
    "print(\"  3. Click derecho → Download\")"
   ]
  },
  {
   "cell_type": "markdown",
   "metadata": {
    "id": "mlflow"
   },
   "source": [
    "## 1️⃣2️⃣ MLFlow UI"
   ]
  },
  {
   "cell_type": "code",
   "execution_count": null,
   "metadata": {
    "id": "mlflow_ui"
   },
   "outputs": [],
   "source": [
    "# Visualizar experimentos localmente\n",
    "print(\"📊 Para ver experimentos en MLflow:\")\n",
    "print(\"\\n1. Descarga los resultados\")\n",
    "print(\"2. En tu máquina local ejecuta:\")\n",
    "print(\"   mlflow ui --backend-store-uri file:///ruta/a/mlruns\")\n",
    "print(\"3. Abre http://localhost:5000\")"
   ]
  }
 ],
 "metadata": {
  "accelerator": "GPU",
  "colab": {
   "gpuType": "T4",
   "provenance": []
  },
  "kernelspec": {
   "display_name": "Python 3",
   "name": "python3"
  },
  "language_info": {
   "name": "python"
  }
 },
 "nbformat": 4,
 "nbformat_minor": 0
}
