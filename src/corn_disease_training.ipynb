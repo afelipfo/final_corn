{
 "cells": [
  {
   "cell_type": "markdown",
   "metadata": {
    "id": "header"
   },
   "source": [
    "# 🌽 Corn Disease Classification - Pipeline Completo\n",
    "\n",
    "**Pipeline de entrenamiento con MobileNetV3Large**\n",
    "\n",
    "- **Paso 4:** Configuración de entrenamiento\n",
    "- **Paso 5:** Creación del modelo\n",
    "- **Paso 6:** Entrenamiento\n",
    "- **Paso 7:** Evaluación y exportación con MLflow\n",
    "\n",
    "---\n",
    "\n",
    "**GPU Recomendada:** L4 o superior  \n",
    "**Tiempo estimado:** 30-60 minutos (depende de GPU y épocas)\n",
    "\n",
    "---"
   ]
  },
  {
   "cell_type": "markdown",
   "metadata": {
    "id": "section-1"
   },
   "source": [
    "## 📦 Sección 1: Configuración Inicial y Verificación de GPU"
   ]
  },
  {
   "cell_type": "code",
   "execution_count": null,
   "metadata": {
    "id": "check-gpu"
   },
   "outputs": [],
   "source": [
    "# Verificar GPU disponible\n",
    "import tensorflow as tf\n",
    "import sys\n",
    "\n",
    "print(\"=\" * 80)\n",
    "print(\"VERIFICACIÓN DE ENTORNO\")\n",
    "print(\"=\" * 80)\n",
    "\n",
    "print(f\"\\nPython version: {sys.version.split()[0]}\")\n",
    "print(f\"TensorFlow version: {tf.__version__}\")\n",
    "\n",
    "# Verificar GPU\n",
    "gpus = tf.config.list_physical_devices('GPU')\n",
    "if gpus:\n",
    "    print(f\"\\n✅ GPU detectada: {len(gpus)} dispositivo(s)\")\n",
    "    for gpu in gpus:\n",
    "        print(f\"   {gpu}\")\n",
    "    \n",
    "    # Configurar crecimiento de memoria\n",
    "    for gpu in gpus:\n",
    "        tf.config.experimental.set_memory_growth(gpu, True)\n",
    "    print(\"   Memory growth habilitado\")\n",
    "else:\n",
    "    print(\"\\n⚠️  NO se detectó GPU - El entrenamiento será MUY lento en CPU\")\n",
    "    print(\"   Recomendación: Runtime > Change runtime type > GPU (L4)\")\n",
    "\n",
    "print(\"\\n\" + \"=\" * 80)"
   ]
  },
  {
   "cell_type": "markdown",
   "metadata": {
    "id": "section-2"
   },
   "source": [
    "## 📂 Sección 2: Instalación de Dependencias"
   ]
  },
  {
   "cell_type": "code",
   "execution_count": null,
   "metadata": {
    "id": "install-deps"
   },
   "outputs": [],
   "source": [
    "# Instalar dependencias necesarias\n",
    "print(\"Instalando dependencias...\\n\")\n",
    "\n",
    "!pip install -q mlflow\n",
    "!pip install -q seaborn\n",
    "\n",
    "print(\"\\n✅ Dependencias instaladas correctamente\")\n",
    "\n",
    "# Verificar versiones\n",
    "import mlflow\n",
    "import seaborn as sns\n",
    "import pandas as pd\n",
    "import numpy as np\n",
    "import matplotlib.pyplot as plt\n",
    "from sklearn.metrics import confusion_matrix, classification_report\n",
    "\n",
    "print(f\"\\nMLflow version: {mlflow.__version__}\")\n",
    "print(f\"Seaborn version: {sns.__version__}\")\n",
    "print(f\"Pandas version: {pd.__version__}\")\n",
    "print(f\"NumPy version: {np.__version__}\")"
   ]
  },
  {
   "cell_type": "markdown",
   "metadata": {
    "id": "section-3"
   },
   "source": "## 📥 Sección 3: Carga del Dataset desde Google Drive y Scripts desde GitHub\n\n**Estrategia:**\n1. **Dataset (`data_augmented/`):** Montado desde Google Drive\n2. **Scripts (`src/`):** Clonados desde GitHub (repositorio `cornIA`)\n\n**Estructura esperada:**\n```\nGoogle Drive: /Mi unidad/data_augmented/\n├── train/ (916 imgs x 4 clases)\n├── val/   (634 imgs total)\n└── test/  (634 imgs total)\n\nGitHub: https://github.com/afelipfo/cornIA\n└── src/\n    ├── training_config.py\n    ├── model_creation.py\n    ├── train_model.py\n    └── evaluate_and_export.py\n```"
  },
  {
   "cell_type": "code",
   "execution_count": null,
   "metadata": {
    "id": "mount-drive"
   },
   "outputs": [],
   "source": "# Paso 1: Montar Google Drive\nfrom google.colab import drive\ndrive.mount('/content/drive')\n\nprint(\"\\n✅ Google Drive montado\")\n\n# Paso 2: Clonar repositorio de GitHub\nprint(\"\\n📥 Clonando repositorio de GitHub...\")\n!git clone https://github.com/afelipfo/cornIA.git\n\nprint(\"\\n✅ Repositorio clonado\")\n\n# Paso 3: Copiar scripts a directorio de trabajo\nimport shutil\nimport os\n\nif os.path.exists('cornIA/src'):\n    if os.path.exists('src'):\n        shutil.rmtree('src')\n    shutil.copytree('cornIA/src', 'src')\n    print(\"✅ Scripts copiados desde GitHub a ./src\")\nelse:\n    print(\"⚠️  No se encontró carpeta src/ en el repositorio\")"
  },
  {
   "cell_type": "code",
   "execution_count": null,
   "metadata": {
    "id": "verify-structure"
   },
   "outputs": [],
   "source": "# Paso 4: Crear enlace simbólico a data_augmented desde Google Drive\nprint(\"📂 Configurando acceso a dataset...\\n\")\n\n# Ruta del dataset en Google Drive (AJUSTA ESTA RUTA SEGÚN TU ESTRUCTURA)\ndrive_data_path = '/content/drive/MyDrive/data_augmented'\n\n# Verificar si existe\nif os.path.exists(drive_data_path):\n    # Crear enlace simbólico\n    if os.path.exists('data_augmented'):\n        os.remove('data_augmented')\n    os.symlink(drive_data_path, 'data_augmented')\n    print(f\"✅ Dataset enlazado desde: {drive_data_path}\")\nelse:\n    print(f\"❌ NO ENCONTRADO: {drive_data_path}\")\n    print(\"\\n⚠️  ACCIÓN REQUERIDA:\")\n    print(\"   1. Verifica que subiste data_augmented/ a Google Drive\")\n    print(\"   2. Ajusta la ruta 'drive_data_path' en esta celda\")\n    print(\"   Ejemplo: '/content/drive/MyDrive/MiCarpeta/data_augmented'\")\n\n# Paso 5: Verificar estructura completa\nprint(\"\\n\" + \"=\" * 80)\nprint(\"VERIFICANDO ESTRUCTURA DE ARCHIVOS\")\nprint(\"=\" * 80 + \"\\n\")\n\nrequired_structure = {\n    'Carpetas de datos': [\n        'data_augmented/train/Blight',\n        'data_augmented/train/CommonRust',\n        'data_augmented/train/GrayLeafSpot',\n        'data_augmented/train/Healthy',\n        'data_augmented/val',\n        'data_augmented/test'\n    ],\n    'Scripts de entrenamiento': [\n        'src/training_config.py',\n        'src/model_creation.py',\n        'src/train_model.py',\n        'src/evaluate_and_export.py'\n    ]\n}\n\nall_ok = True\nfor category, paths in required_structure.items():\n    print(f\"\\n{category}:\")\n    for path in paths:\n        if os.path.exists(path):\n            print(f\"  ✅ {path}\")\n        else:\n            print(f\"  ❌ {path} - NO ENCONTRADO\")\n            all_ok = False\n\nif all_ok:\n    print(\"\\n\" + \"=\" * 80)\n    print(\"🎉 VERIFICACIÓN EXITOSA - Todos los archivos están listos\")\n    print(\"=\" * 80)\nelse:\n    print(\"\\n\" + \"=\" * 80)\n    print(\"⚠️  VERIFICACIÓN FALLIDA - Corrige los errores antes de continuar\")\n    print(\"=\" * 80)"
  },
  {
   "cell_type": "markdown",
   "metadata": {
    "id": "section-4"
   },
   "source": [
    "## 🔧 Sección 4: Configuración de Parámetros del Pipeline"
   ]
  },
  {
   "cell_type": "code",
   "execution_count": null,
   "metadata": {
    "id": "config-params"
   },
   "outputs": [],
   "source": [
    "# Configuración del pipeline\n",
    "RANDOM_SEED = 42\n",
    "EPOCHS = 50\n",
    "BATCH_SIZE = 32\n",
    "\n",
    "print(\"=\" * 80)\n",
    "print(\"CONFIGURACIÓN DEL PIPELINE\")\n",
    "print(\"=\" * 80)\n",
    "print(f\"\\nRandom seed: {RANDOM_SEED}\")\n",
    "print(f\"Épocas: {EPOCHS}\")\n",
    "print(f\"Batch size: {BATCH_SIZE}\")\n",
    "print(\"\\n\" + \"=\" * 80)\n",
    "\n",
    "# Agregar src al path para imports\n",
    "import sys\n",
    "sys.path.insert(0, './src')\n",
    "\n",
    "print(\"\\n✅ Parámetros configurados\")\n",
    "print(\"✅ Módulos de src/ agregados al path\")"
   ]
  },
  {
   "cell_type": "markdown",
   "metadata": {
    "id": "section-5"
   },
   "source": [
    "## 🎯 Sección 5: PASO 4 - Configuración de Entrenamiento\n",
    "\n",
    "Configura:\n",
    "- Data augmentation online\n",
    "- Generadores de datos (train/val/test)\n",
    "- Callbacks (EarlyStopping, ReduceLROnPlateau, etc.)"
   ]
  },
  {
   "cell_type": "code",
   "execution_count": null,
   "metadata": {
    "id": "step-4"
   },
   "outputs": [],
   "source": [
    "from training_config import TrainingConfiguration\n",
    "from datetime import datetime\n",
    "\n",
    "print(\"\\n\" + \"▓\" * 100)\n",
    "print(\"▓ PASO 4: CONFIGURACIÓN DE ENTRENAMIENTO\")\n",
    "print(\"▓ Configura augmentation online, generadores de datos y callbacks\")\n",
    "print(\"▓\" * 100 + \"\\n\")\n",
    "\n",
    "try:\n",
    "    # Inicializar configuración\n",
    "    print(\"🔧 Inicializando TrainingConfiguration...\\n\")\n",
    "    config = TrainingConfiguration(\n",
    "        data_dir='./data_augmented',\n",
    "        output_dir='./training_output',\n",
    "        random_seed=RANDOM_SEED\n",
    "    )\n",
    "    \n",
    "    # Ejecutar configuración completa\n",
    "    print(\"🚀 Ejecutando configuración completa...\\n\")\n",
    "    config.run()\n",
    "    \n",
    "    print(\"\\n\" + \"░\" * 100)\n",
    "    print(\"░ ✅ PASO 4 COMPLETADO: Configuración de Entrenamiento\")\n",
    "    print(\"░\" * 100 + \"\\n\")\n",
    "    \n",
    "except Exception as e:\n",
    "    print(\"\\n\" + \"░\" * 100)\n",
    "    print(\"░ ❌ PASO 4 FALLÓ: Configuración de Entrenamiento\")\n",
    "    print(\"░\" * 100)\n",
    "    print(f\"\\nError: {str(e)}\")\n",
    "    import traceback\n",
    "    traceback.print_exc()\n",
    "    raise"
   ]
  },
  {
   "cell_type": "markdown",
   "metadata": {
    "id": "section-6"
   },
   "source": [
    "## 🤖 Sección 6: PASO 5 - Creación del Modelo\n",
    "\n",
    "Crea el modelo:\n",
    "- MobileNetV3Large (ImageNet)\n",
    "- BatchNormalization\n",
    "- Dropout(0.5)\n",
    "- Dense(4, softmax)"
   ]
  },
  {
   "cell_type": "code",
   "execution_count": null,
   "metadata": {
    "id": "step-5"
   },
   "outputs": [],
   "source": [
    "from model_creation import ModelCreator\n",
    "\n",
    "print(\"\\n\" + \"▓\" * 100)\n",
    "print(\"▓ PASO 5: CREACIÓN DEL MODELO\")\n",
    "print(\"▓ Crea MobileNetV3Large con BatchNorm, Dropout y capa de salida\")\n",
    "print(\"▓\" * 100 + \"\\n\")\n",
    "\n",
    "try:\n",
    "    # Inicializar creador de modelo\n",
    "    print(\"🤖 Inicializando ModelCreator...\\n\")\n",
    "    creator = ModelCreator(\n",
    "        config_path='./training_output/training_config.json',\n",
    "        output_dir='./model_output',\n",
    "        random_seed=RANDOM_SEED\n",
    "    )\n",
    "    \n",
    "    # Crear y compilar modelo\n",
    "    print(\"🏗️  Ejecutando creación y compilación del modelo...\\n\")\n",
    "    model = creator.run()\n",
    "    \n",
    "    print(\"\\n\" + \"░\" * 100)\n",
    "    print(\"░ ✅ PASO 5 COMPLETADO: Creación del Modelo\")\n",
    "    print(\"░\" * 100 + \"\\n\")\n",
    "    \n",
    "except Exception as e:\n",
    "    print(\"\\n\" + \"░\" * 100)\n",
    "    print(\"░ ❌ PASO 5 FALLÓ: Creación del Modelo\")\n",
    "    print(\"░\" * 100)\n",
    "    print(f\"\\nError: {str(e)}\")\n",
    "    import traceback\n",
    "    traceback.print_exc()\n",
    "    raise"
   ]
  },
  {
   "cell_type": "markdown",
   "metadata": {
    "id": "section-7"
   },
   "source": [
    "## 🏋️ Sección 7: PASO 6 - Entrenamiento\n",
    "\n",
    "Entrena el modelo:\n",
    "- Con augmentation online\n",
    "- Callbacks automáticos\n",
    "- Métricas avanzadas (Precision, Recall, AUC)\n",
    "- Gráficas automáticas\n",
    "\n",
    "**⚠️ ADVERTENCIA:** Esta celda puede tardar 30-60 minutos dependiendo de la GPU."
   ]
  },
  {
   "cell_type": "code",
   "execution_count": null,
   "metadata": {
    "id": "step-6"
   },
   "outputs": [],
   "source": [
    "from train_model import ModelTrainer\n",
    "\n",
    "print(\"\\n\" + \"▓\" * 100)\n",
    "print(\"▓ PASO 6: ENTRENAMIENTO DEL MODELO\")\n",
    "print(\"▓ Entrena el modelo con augmentation, callbacks y métricas avanzadas\")\n",
    "print(\"▓\" * 100 + \"\\n\")\n",
    "\n",
    "try:\n",
    "    # Inicializar entrenador\n",
    "    print(\"🚀 Inicializando ModelTrainer...\\n\")\n",
    "    trainer = ModelTrainer(\n",
    "        output_dir='./training_results',\n",
    "        random_seed=RANDOM_SEED,\n",
    "        epochs=EPOCHS,\n",
    "        batch_size=BATCH_SIZE\n",
    "    )\n",
    "    \n",
    "    # Ejecutar entrenamiento completo\n",
    "    print(\"🏋️  Ejecutando entrenamiento completo...\\n\")\n",
    "    print(\"⏰ Esto puede tardar 30-60 minutos...\\n\")\n",
    "    \n",
    "    trainer.run()\n",
    "    \n",
    "    print(\"\\n\" + \"░\" * 100)\n",
    "    print(\"░ ✅ PASO 6 COMPLETADO: Entrenamiento del Modelo\")\n",
    "    print(\"░\" * 100 + \"\\n\")\n",
    "    \n",
    "except Exception as e:\n",
    "    print(\"\\n\" + \"░\" * 100)\n",
    "    print(\"░ ❌ PASO 6 FALLÓ: Entrenamiento del Modelo\")\n",
    "    print(\"░\" * 100)\n",
    "    print(f\"\\nError: {str(e)}\")\n",
    "    import traceback\n",
    "    traceback.print_exc()\n",
    "    raise"
   ]
  },
  {
   "cell_type": "markdown",
   "metadata": {
    "id": "section-8"
   },
   "source": [
    "## 📊 Sección 8: Visualización de Resultados de Entrenamiento\n",
    "\n",
    "Visualiza las gráficas generadas durante el entrenamiento."
   ]
  },
  {
   "cell_type": "code",
   "execution_count": null,
   "metadata": {
    "id": "view-training-plots"
   },
   "outputs": [],
   "source": [
    "from IPython.display import Image, display\n",
    "import os\n",
    "\n",
    "print(\"=\" * 80)\n",
    "print(\"GRÁFICAS DE ENTRENAMIENTO\")\n",
    "print(\"=\" * 80 + \"\\n\")\n",
    "\n",
    "# Mostrar gráfica de accuracy y loss\n",
    "if os.path.exists('./training_results/training_history.png'):\n",
    "    print(\"📈 Accuracy y Loss vs Epochs:\\n\")\n",
    "    display(Image('./training_results/training_history.png'))\n",
    "else:\n",
    "    print(\"⚠️  No se encontró training_history.png\")\n",
    "\n",
    "# Mostrar gráfica de métricas avanzadas\n",
    "if os.path.exists('./training_results/advanced_metrics.png'):\n",
    "    print(\"\\n📊 Métricas Avanzadas (Precision, Recall, AUC):\\n\")\n",
    "    display(Image('./training_results/advanced_metrics.png'))\n",
    "else:\n",
    "    print(\"\\nℹ️  No se encontró advanced_metrics.png\")"
   ]
  },
  {
   "cell_type": "markdown",
   "metadata": {
    "id": "section-9"
   },
   "source": [
    "## 🔬 Sección 9: PASO 7 - Evaluación y Exportación con MLflow\n",
    "\n",
    "Evalúa el modelo en test set:\n",
    "- Matriz de confusión\n",
    "- Métricas completas (Accuracy, Precision, Recall, F1)\n",
    "- Exportación del modelo\n",
    "- Registro en MLflow"
   ]
  },
  {
   "cell_type": "code",
   "execution_count": null,
   "metadata": {
    "id": "step-7"
   },
   "outputs": [],
   "source": [
    "from evaluate_and_export import ModelEvaluator\n",
    "\n",
    "print(\"\\n\" + \"▓\" * 100)\n",
    "print(\"▓ PASO 7: EVALUACIÓN Y EXPORTACIÓN CON MLFLOW\")\n",
    "print(\"▓ Evalúa en test, genera métricas, matriz de confusión y registra en MLflow\")\n",
    "print(\"▓\" * 100 + \"\\n\")\n",
    "\n",
    "try:\n",
    "    # Inicializar evaluador\n",
    "    print(\"🔬 Inicializando ModelEvaluator...\\n\")\n",
    "    evaluator = ModelEvaluator(\n",
    "        model_path='./training_output/best_model.keras',\n",
    "        output_dir='./evaluation_results',\n",
    "        random_seed=RANDOM_SEED\n",
    "    )\n",
    "    \n",
    "    # Ejecutar evaluación completa\n",
    "    print(\"📊 Ejecutando evaluación y exportación completa...\\n\")\n",
    "    evaluator.run()\n",
    "    \n",
    "    print(\"\\n\" + \"░\" * 100)\n",
    "    print(\"░ ✅ PASO 7 COMPLETADO: Evaluación y Exportación\")\n",
    "    print(\"░\" * 100 + \"\\n\")\n",
    "    \n",
    "except Exception as e:\n",
    "    print(\"\\n\" + \"░\" * 100)\n",
    "    print(\"░ ❌ PASO 7 FALLÓ: Evaluación y Exportación\")\n",
    "    print(\"░\" * 100)\n",
    "    print(f\"\\nError: {str(e)}\")\n",
    "    import traceback\n",
    "    traceback.print_exc()\n",
    "    raise"
   ]
  },
  {
   "cell_type": "markdown",
   "metadata": {
    "id": "section-10"
   },
   "source": [
    "## 📊 Sección 10: Visualización de Resultados de Evaluación\n",
    "\n",
    "Visualiza matriz de confusión y métricas finales."
   ]
  },
  {
   "cell_type": "code",
   "execution_count": null,
   "metadata": {
    "id": "view-evaluation"
   },
   "outputs": [],
   "source": [
    "from IPython.display import Image, display\n",
    "import json\n",
    "import pandas as pd\n",
    "\n",
    "print(\"=\" * 80)\n",
    "print(\"RESULTADOS DE EVALUACIÓN EN TEST SET\")\n",
    "print(\"=\" * 80 + \"\\n\")\n",
    "\n",
    "# Mostrar matriz de confusión\n",
    "if os.path.exists('./evaluation_results/confusion_matrix.png'):\n",
    "    print(\"📊 Matriz de Confusión:\\n\")\n",
    "    display(Image('./evaluation_results/confusion_matrix.png'))\n",
    "else:\n",
    "    print(\"⚠️  No se encontró confusion_matrix.png\")\n",
    "\n",
    "# Mostrar métricas finales\n",
    "if os.path.exists('./evaluation_results/evaluation_results.json'):\n",
    "    print(\"\\n\" + \"=\" * 80)\n",
    "    print(\"📈 MÉTRICAS FINALES EN TEST SET\")\n",
    "    print(\"=\" * 80 + \"\\n\")\n",
    "    \n",
    "    with open('./evaluation_results/evaluation_results.json', 'r') as f:\n",
    "        results = json.load(f)\n",
    "    \n",
    "    metrics = results['test_metrics']\n",
    "    print(f\"Accuracy:         {metrics['accuracy']:.4f}\")\n",
    "    print(f\"Precision (macro): {metrics['precision_macro']:.4f}\")\n",
    "    print(f\"Recall (macro):    {metrics['recall_macro']:.4f}\")\n",
    "    print(f\"F1-score (macro):  {metrics['f1_macro']:.4f}\")\n",
    "    \n",
    "    print(\"\\n\" + \"-\" * 80)\n",
    "    print(\"📊 MÉTRICAS POR CLASE\")\n",
    "    print(\"-\" * 80 + \"\\n\")\n",
    "    \n",
    "    for class_name, class_metrics in results['class_metrics'].items():\n",
    "        print(f\"{class_name:15s}: Precision={class_metrics['precision']:.4f}, \"\n",
    "              f\"Recall={class_metrics['recall']:.4f}, \"\n",
    "              f\"F1={class_metrics['f1_score']:.4f}\")\n",
    "else:\n",
    "    print(\"⚠️  No se encontró evaluation_results.json\")\n",
    "\n",
    "# Mostrar classification report\n",
    "if os.path.exists('./evaluation_results/classification_report.csv'):\n",
    "    print(\"\\n\" + \"=\" * 80)\n",
    "    print(\"📄 CLASSIFICATION REPORT\")\n",
    "    print(\"=\" * 80 + \"\\n\")\n",
    "    \n",
    "    report_df = pd.read_csv('./evaluation_results/classification_report.csv', index_col=0)\n",
    "    print(report_df.to_string())"
   ]
  },
  {
   "cell_type": "markdown",
   "metadata": {
    "id": "section-11"
   },
   "source": [
    "## 🎉 Sección 11: Resumen Final del Pipeline"
   ]
  },
  {
   "cell_type": "code",
   "execution_count": null,
   "metadata": {
    "id": "final-summary"
   },
   "outputs": [],
   "source": [
    "print(\"\\n\" + \"=\" * 100)\n",
    "print(\"█\" * 100)\n",
    "print(\"█\" + \" \" * 35 + \"PIPELINE COMPLETADO EXITOSAMENTE\" + \" \" * 32 + \"█\")\n",
    "print(\"█\" * 100)\n",
    "print(\"=\" * 100)\n",
    "\n",
    "print(\"\\n📋 ESTADO DE PASOS:\")\n",
    "print(\"   ✅ Paso 4: Configuración de entrenamiento\")\n",
    "print(\"   ✅ Paso 5: Creación del modelo\")\n",
    "print(\"   ✅ Paso 6: Entrenamiento\")\n",
    "print(\"   ✅ Paso 7: Evaluación y MLflow\")\n",
    "\n",
    "print(\"\\n📁 ARCHIVOS GENERADOS:\")\n",
    "print(\"   📂 training_output/\")\n",
    "print(\"      ├── training_config.json       (Configuración)\")\n",
    "print(\"      ├── best_model.keras           (Mejor modelo)\")\n",
    "print(\"      └── training_history.csv       (Historial)\")\n",
    "print(\"\\n   📂 model_output/\")\n",
    "print(\"      ├── model_config.json          (Configuración del modelo)\")\n",
    "print(\"      └── model_summary.txt          (Resumen)\")\n",
    "print(\"\\n   📂 training_results/\")\n",
    "print(\"      ├── training_info.json         (Info completa)\")\n",
    "print(\"      ├── training_history.png       (Gráficas)\")\n",
    "print(\"      └── advanced_metrics.png       (Métricas)\")\n",
    "print(\"\\n   📂 evaluation_results/\")\n",
    "print(\"      ├── best_model.keras           (Modelo exportado)\")\n",
    "print(\"      ├── confusion_matrix.png       (Matriz)\")\n",
    "print(\"      └── classification_report.csv  (Reporte)\")\n",
    "\n",
    "print(\"\\n\" + \"=\" * 100)\n",
    "print(\"\\n✅ ¡Entrenamiento completado!\")\n",
    "print(\"\\n📥 Para descargar los resultados:\")\n",
    "print(\"   - Haz clic derecho en los archivos/carpetas en el panel izquierdo\")\n",
    "print(\"   - Selecciona 'Download'\")\n",
    "print(\"\\n🔬 MLflow:\")\n",
    "print(\"   - Todos los parámetros, métricas y artefactos registrados\")\n",
    "print(\"   - Experiment: Maize-Disease-Classification\")\n",
    "print(\"\\n\" + \"=\" * 100)"
   ]
  },
  {
   "cell_type": "markdown",
   "metadata": {
    "id": "section-12"
   },
   "source": [
    "## 📥 Sección 12: Descargar Resultados (Opcional)\n",
    "\n",
    "Descarga todos los resultados a tu máquina local."
   ]
  },
  {
   "cell_type": "code",
   "execution_count": null,
   "metadata": {
    "id": "download-results"
   },
   "outputs": [],
   "source": [
    "# Crear archivo ZIP con todos los resultados\n",
    "import shutil\n",
    "from datetime import datetime\n",
    "\n",
    "timestamp = datetime.now().strftime('%Y%m%d_%H%M%S')\n",
    "zip_name = f'corn_disease_results_{timestamp}'\n",
    "\n",
    "print(f\"Creando archivo ZIP: {zip_name}.zip...\\n\")\n",
    "\n",
    "# Crear ZIP con todos los directorios de resultados\n",
    "shutil.make_archive(zip_name, 'zip', '.', \n",
    "                   base_dir=None,\n",
    "                   root_dir='.')\n",
    "\n",
    "# Incluir solo carpetas de resultados\n",
    "folders_to_zip = [\n",
    "    'training_output',\n",
    "    'model_output',\n",
    "    'training_results',\n",
    "    'evaluation_results'\n",
    "]\n",
    "\n",
    "# Crear un ZIP más específico\n",
    "!zip -r {zip_name}.zip {' '.join(folders_to_zip)} -x \"*.pyc\" \"__pycache__/*\"\n",
    "\n",
    "print(f\"\\n✅ Archivo creado: {zip_name}.zip\")\n",
    "print(f\"\\n📥 Para descargar:\")\n",
    "print(f\"   from google.colab import files\")\n",
    "print(f\"   files.download('{zip_name}.zip')\")\n",
    "\n",
    "# Descarga automática (descomenta si quieres descarga automática)\n",
    "# from google.colab import files\n",
    "# files.download(f'{zip_name}.zip')"
   ]
  },
  {
   "cell_type": "markdown",
   "metadata": {
    "id": "section-13"
   },
   "source": [
    "## 🔄 Sección 13: Guardar en Google Drive (Opcional)\n",
    "\n",
    "Guarda los resultados directamente en tu Google Drive."
   ]
  },
  {
   "cell_type": "code",
   "execution_count": null,
   "metadata": {
    "id": "save-to-drive"
   },
   "outputs": [],
   "source": [
    "# Copiar resultados a Google Drive\n",
    "import shutil\n",
    "import os\n",
    "\n",
    "# Definir carpeta destino en Drive\n",
    "drive_results_dir = '/content/drive/MyDrive/Corn_Disease_Results'\n",
    "\n",
    "print(f\"Copiando resultados a Google Drive...\\n\")\n",
    "print(f\"Destino: {drive_results_dir}\\n\")\n",
    "\n",
    "# Crear carpeta en Drive si no existe\n",
    "os.makedirs(drive_results_dir, exist_ok=True)\n",
    "\n",
    "# Copiar cada carpeta de resultados\n",
    "folders_to_copy = [\n",
    "    'training_output',\n",
    "    'model_output',\n",
    "    'training_results',\n",
    "    'evaluation_results'\n",
    "]\n",
    "\n",
    "for folder in folders_to_copy:\n",
    "    if os.path.exists(folder):\n",
    "        dest = os.path.join(drive_results_dir, folder)\n",
    "        if os.path.exists(dest):\n",
    "            shutil.rmtree(dest)\n",
    "        shutil.copytree(folder, dest)\n",
    "        print(f\"✅ Copiado: {folder} → {dest}\")\n",
    "    else:\n",
    "        print(f\"⚠️  No encontrado: {folder}\")\n",
    "\n",
    "print(f\"\\n✅ Resultados guardados en Google Drive\")\n",
    "print(f\"   Ubicación: {drive_results_dir}\")"
   ]
  }
 ],
 "metadata": {
  "accelerator": "GPU",
  "colab": {
   "gpuType": "L4",
   "provenance": [],
   "machine_shape": "hm"
  },
  "kernelspec": {
   "display_name": "Python 3",
   "name": "python3"
  },
  "language_info": {
   "name": "python"
  }
 },
 "nbformat": 4,
 "nbformat_minor": 0
}